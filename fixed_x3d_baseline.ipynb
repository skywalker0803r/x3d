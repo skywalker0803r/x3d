{
 "cells": [
  {
   "cell_type": "code",
   "execution_count": 1,
   "metadata": {
    "colab": {
     "base_uri": "https://localhost:8080/"
    },
    "id": "yOmDd03gssFo",
    "outputId": "2209c0b6-cff4-4a94-bcfa-822313206b10"
   },
   "outputs": [
    {
     "name": "stdout",
     "output_type": "stream",
     "text": [
      "Collecting pytorchvideo\n",
      "  Downloading pytorchvideo-0.1.5.tar.gz (132 kB)\n",
      "\u001b[?25l     \u001b[90m━━━━━━━━━━━━━━━━━━━━━━━━━━━━━━━━━━━━━━━━\u001b[0m \u001b[32m0.0/132.7 kB\u001b[0m \u001b[31m?\u001b[0m eta \u001b[36m-:--:--\u001b[0m\r",
      "\u001b[2K     \u001b[90m━━━━━━━━━━━━━━━━━━━━━━━━━━━━━━━━━━━━━━━\u001b[0m \u001b[32m132.7/132.7 kB\u001b[0m \u001b[31m5.5 MB/s\u001b[0m eta \u001b[36m0:00:00\u001b[0m\n",
      "\u001b[?25h  Preparing metadata (setup.py) ... \u001b[?25l\u001b[?25hdone\n",
      "Collecting fvcore (from pytorchvideo)\n",
      "  Downloading fvcore-0.1.5.post20221221.tar.gz (50 kB)\n",
      "\u001b[2K     \u001b[90m━━━━━━━━━━━━━━━━━━━━━━━━━━━━━━━━━━━━━━━━\u001b[0m \u001b[32m50.2/50.2 kB\u001b[0m \u001b[31m4.6 MB/s\u001b[0m eta \u001b[36m0:00:00\u001b[0m\n",
      "\u001b[?25h  Preparing metadata (setup.py) ... \u001b[?25l\u001b[?25hdone\n",
      "Collecting av (from pytorchvideo)\n",
      "  Downloading av-14.4.0-cp311-cp311-manylinux_2_17_x86_64.manylinux2014_x86_64.whl.metadata (4.6 kB)\n",
      "Collecting parameterized (from pytorchvideo)\n",
      "  Downloading parameterized-0.9.0-py2.py3-none-any.whl.metadata (18 kB)\n",
      "Collecting iopath (from pytorchvideo)\n",
      "  Downloading iopath-0.1.10.tar.gz (42 kB)\n",
      "\u001b[2K     \u001b[90m━━━━━━━━━━━━━━━━━━━━━━━━━━━━━━━━━━━━━━━━\u001b[0m \u001b[32m42.2/42.2 kB\u001b[0m \u001b[31m3.8 MB/s\u001b[0m eta \u001b[36m0:00:00\u001b[0m\n",
      "\u001b[?25h  Preparing metadata (setup.py) ... \u001b[?25l\u001b[?25hdone\n",
      "Requirement already satisfied: networkx in /usr/local/lib/python3.11/dist-packages (from pytorchvideo) (3.5)\n",
      "Requirement already satisfied: numpy in /usr/local/lib/python3.11/dist-packages (from fvcore->pytorchvideo) (2.0.2)\n",
      "Collecting yacs>=0.1.6 (from fvcore->pytorchvideo)\n",
      "  Downloading yacs-0.1.8-py3-none-any.whl.metadata (639 bytes)\n",
      "Requirement already satisfied: pyyaml>=5.1 in /usr/local/lib/python3.11/dist-packages (from fvcore->pytorchvideo) (6.0.2)\n",
      "Requirement already satisfied: tqdm in /usr/local/lib/python3.11/dist-packages (from fvcore->pytorchvideo) (4.67.1)\n",
      "Requirement already satisfied: termcolor>=1.1 in /usr/local/lib/python3.11/dist-packages (from fvcore->pytorchvideo) (3.1.0)\n",
      "Requirement already satisfied: Pillow in /usr/local/lib/python3.11/dist-packages (from fvcore->pytorchvideo) (11.2.1)\n",
      "Requirement already satisfied: tabulate in /usr/local/lib/python3.11/dist-packages (from fvcore->pytorchvideo) (0.9.0)\n",
      "Requirement already satisfied: typing_extensions in /usr/local/lib/python3.11/dist-packages (from iopath->pytorchvideo) (4.14.0)\n",
      "Collecting portalocker (from iopath->pytorchvideo)\n",
      "  Downloading portalocker-3.2.0-py3-none-any.whl.metadata (8.7 kB)\n",
      "Downloading av-14.4.0-cp311-cp311-manylinux_2_17_x86_64.manylinux2014_x86_64.whl (35.3 MB)\n",
      "\u001b[2K   \u001b[90m━━━━━━━━━━━━━━━━━━━━━━━━━━━━━━━━━━━━━━━━\u001b[0m \u001b[32m35.3/35.3 MB\u001b[0m \u001b[31m62.6 MB/s\u001b[0m eta \u001b[36m0:00:00\u001b[0m\n",
      "\u001b[?25hDownloading parameterized-0.9.0-py2.py3-none-any.whl (20 kB)\n",
      "Downloading yacs-0.1.8-py3-none-any.whl (14 kB)\n",
      "Downloading portalocker-3.2.0-py3-none-any.whl (22 kB)\n",
      "Building wheels for collected packages: pytorchvideo, fvcore, iopath\n",
      "  Building wheel for pytorchvideo (setup.py) ... \u001b[?25l\u001b[?25hdone\n",
      "  Created wheel for pytorchvideo: filename=pytorchvideo-0.1.5-py3-none-any.whl size=188686 sha256=a36237f2c08411e5ec1cac425a9579e9dc90691799c0fcd83d56494f2843fdd4\n",
      "  Stored in directory: /root/.cache/pip/wheels/a4/6d/ae/d016375a73be141a0e11bb42289e2d0b046c35687fc8010ecc\n",
      "  Building wheel for fvcore (setup.py) ... \u001b[?25l\u001b[?25hdone\n",
      "  Created wheel for fvcore: filename=fvcore-0.1.5.post20221221-py3-none-any.whl size=61397 sha256=5c909f4b14bcb8e8682422aeeca82c1b5db4035bacbdce1d9672f6f6a9d66612\n",
      "  Stored in directory: /root/.cache/pip/wheels/65/71/95/3b8fde5c65c6e4a806e0867c1651dcc71a1cb2f3430e8f355f\n",
      "  Building wheel for iopath (setup.py) ... \u001b[?25l\u001b[?25hdone\n",
      "  Created wheel for iopath: filename=iopath-0.1.10-py3-none-any.whl size=31527 sha256=5dbdcd9b7ab9c6b418ea07ce380dfa097d59f7aeaf643fe7c70379d942b1a51b\n",
      "  Stored in directory: /root/.cache/pip/wheels/ba/5e/16/6117f8fe7e9c0c161a795e10d94645ebcf301ccbd01f66d8ec\n",
      "Successfully built pytorchvideo fvcore iopath\n",
      "Installing collected packages: yacs, portalocker, parameterized, av, iopath, fvcore, pytorchvideo\n",
      "Successfully installed av-14.4.0 fvcore-0.1.5.post20221221 iopath-0.1.10 parameterized-0.9.0 portalocker-3.2.0 pytorchvideo-0.1.5 yacs-0.1.8\n"
     ]
    }
   ],
   "source": [
    "!pip install pytorchvideo"
   ]
  },
  {
   "cell_type": "markdown",
   "metadata": {
    "id": "NtkNIHzRy3vA"
   },
   "source": [
    "# 影片轉tensor"
   ]
  },
  {
   "cell_type": "code",
   "execution_count": 17,
   "metadata": {
    "colab": {
     "base_uri": "https://localhost:8080/"
    },
    "id": "u6TYDwlBtVEr",
    "outputId": "6f695627-db42-415e-c83a-5eb990732e48"
   },
   "outputs": [
    {
     "name": "stderr",
     "output_type": "stream",
     "text": [
      "Processing videos: 100%|██████████| 382/382 [25:00<00:00,  3.93s/it]\n"
     ]
    }
   ],
   "source": [
    "import os\n",
    "import cv2\n",
    "import torch\n",
    "import numpy as np\n",
    "from PIL import Image\n",
    "from tqdm import tqdm\n",
    "from torchvision.transforms import Compose, ToTensor, Normalize\n",
    "from torchvision.transforms.functional import center_crop\n",
    "\n",
    "# === 設定 ===\n",
    "video_dir = \"/content/drive/MyDrive/Baseball Movies/釀酒人主場videos_4S/Milwaukee_Brewers_FF_videos_4S\"\n",
    "save_dir = os.path.join(video_dir, \"tensors_x3d\")\n",
    "os.makedirs(save_dir, exist_ok=True)\n",
    "\n",
    "# === 前處理參數 ===\n",
    "NUM_FRAMES = 13\n",
    "RESIZE_SIZE = 160\n",
    "transform = Compose([\n",
    "    ToTensor(),\n",
    "    Normalize(mean=[0.45, 0.45, 0.45], std=[0.225, 0.225, 0.225])\n",
    "])\n",
    "\n",
    "# === 影片 → Tensor 函數 ===\n",
    "def video_to_tensor(video_path, num_frames=NUM_FRAMES, size=RESIZE_SIZE):\n",
    "    cap = cv2.VideoCapture(video_path)\n",
    "    total_frames = int(cap.get(cv2.CAP_PROP_FRAME_COUNT))\n",
    "    indices = np.linspace(0, total_frames - 1, num=num_frames, dtype=int)\n",
    "\n",
    "    frames = []\n",
    "    for idx in indices:\n",
    "        cap.set(cv2.CAP_PROP_POS_FRAMES, idx)\n",
    "        ret, frame = cap.read()\n",
    "        if not ret:\n",
    "            break\n",
    "        frame = cv2.cvtColor(frame, cv2.COLOR_BGR2RGB)\n",
    "        frame = Image.fromarray(frame)\n",
    "        frame = center_crop(frame, size)\n",
    "        frame = frame.resize((size, size))  # (H, W)\n",
    "        frames.append(transform(frame))  # → (C, H, W)\n",
    "\n",
    "    cap.release()\n",
    "    if len(frames) != num_frames:\n",
    "        return None  # 忽略長度不足的影片\n",
    "\n",
    "    video_tensor = torch.stack(frames, dim=1)  # (C, T, H, W)\n",
    "    return video_tensor\n",
    "\n",
    "# === 批次處理所有影片 ===\n",
    "video_list = sorted([f for f in os.listdir(video_dir) if f.endswith(\".mp4\")])\n",
    "for video_file in tqdm(video_list, desc=\"Processing videos\"):\n",
    "    video_path = os.path.join(video_dir, video_file)\n",
    "    tensor = video_to_tensor(video_path)\n",
    "    if tensor is not None:\n",
    "        save_path = os.path.join(save_dir, video_file.replace(\".mp4\", \".pt\"))\n",
    "        torch.save(tensor, save_path)\n"
   ]
  },
  {
   "cell_type": "markdown",
   "metadata": {
    "id": "XW8A5O-e41HZ"
   },
   "source": [
    "# 整理成X,Y"
   ]
  },
  {
   "cell_type": "code",
   "execution_count": 18,
   "metadata": {
    "colab": {
     "base_uri": "https://localhost:8080/"
    },
    "id": "SPznvsdL4pmJ",
    "outputId": "17aeec86-bbfc-4d7c-d81b-e527ddbe3549"
   },
   "outputs": [
    {
     "name": "stderr",
     "output_type": "stream",
     "text": [
      "Loading tensors: 100%|██████████| 382/382 [00:06<00:00, 60.33it/s]"
     ]
    },
    {
     "name": "stdout",
     "output_type": "stream",
     "text": [
      "✅ Loaded 382 samples\n"
     ]
    },
    {
     "name": "stderr",
     "output_type": "stream",
     "text": [
      "\n"
     ]
    }
   ],
   "source": [
    "import os\n",
    "import torch\n",
    "import pandas as pd\n",
    "from tqdm import tqdm\n",
    "\n",
    "# === 路徑設定 ===\n",
    "tensor_dir = \"/content/drive/MyDrive/Baseball Movies/釀酒人主場videos_4S/Milwaukee_Brewers_FF_videos_4S/tensors_x3d\"\n",
    "csv_path = \"/content/drive/MyDrive/Baseball Movies/釀酒人主場videos_4S/Milwaukee_Brewers_FF_videos_4S/Milwaukee_Brewers_FF.csv\"\n",
    "\n",
    "# === 讀取 CSV：建立 filename → description 的對應字典 ===\n",
    "df = pd.read_csv(csv_path)\n",
    "label_dict = dict(zip(df[\"Filename\"], df[\"description\"]))  # e.g., {\"pitch_0001.mp4\": \"strike\"}\n",
    "\n",
    "# === 讀取所有 .pt 檔案，並對應回 label ===\n",
    "X = []\n",
    "y = []\n",
    "\n",
    "tensor_files = sorted([f for f in os.listdir(tensor_dir) if f.endswith(\".pt\")])\n",
    "for pt_file in tqdm(tensor_files, desc=\"Loading tensors\"):\n",
    "    mp4_filename = pt_file.replace(\".pt\", \".mp4\")\n",
    "\n",
    "    if mp4_filename not in label_dict:\n",
    "        print(f\"⚠️ {mp4_filename} not found in CSV, skipping.\")\n",
    "        continue\n",
    "\n",
    "    tensor_path = os.path.join(tensor_dir, pt_file)\n",
    "    video_tensor = torch.load(tensor_path)  # (3, T, H, W)\n",
    "\n",
    "    label = label_dict[mp4_filename]\n",
    "\n",
    "    X.append(video_tensor)\n",
    "    y.append(label)  # or use label_map[label] if you want to map to integers\n",
    "\n",
    "print(f\"✅ Loaded {len(X)} samples\")\n"
   ]
  },
  {
   "cell_type": "markdown",
   "metadata": {
    "id": "HCjYA5eZ5_Nu"
   },
   "source": [
    "# 將y做encoding"
   ]
  },
  {
   "cell_type": "code",
   "execution_count": 20,
   "metadata": {
    "id": "DhXs6HZA5-d_"
   },
   "outputs": [],
   "source": [
    "y = [1 if \"strike\" in label.lower() else 0 for label in y]"
   ]
  },
  {
   "cell_type": "markdown",
   "metadata": {
    "id": "fAw4YVVB9Izd"
   },
   "source": [
    "# 看一下X shape"
   ]
  },
  {
   "cell_type": "code",
   "execution_count": 26,
   "metadata": {
    "colab": {
     "base_uri": "https://localhost:8080/"
    },
    "id": "XwKhYLdj7DUH",
    "outputId": "4e3e0ea5-f734-42e4-997c-1be7251fd643"
   },
   "outputs": [
    {
     "name": "stdout",
     "output_type": "stream",
     "text": [
      "torch.Size([3, 13, 160, 160])\n"
     ]
    }
   ],
   "source": [
    "print(X[0].shape)"
   ]
  },
  {
   "cell_type": "markdown",
   "metadata": {
    "id": "aaoNohWr7qkF"
   },
   "source": [
    "# 準備 X3D 模型（二分類）"
   ]
  },
  {
   "cell_type": "code",
   "execution_count": 28,
   "metadata": {
    "id": "pSrjak2K7q9e"
   },
   "outputs": [],
   "source": [
    "import torch.nn as nn\n",
    "from pytorchvideo.models.hub import x3d_xs\n",
    "\n",
    "device = \"cuda\" if torch.cuda.is_available() else \"cpu\"\n",
    "\n",
    "model = x3d_xs(pretrained=False)\n",
    "model.blocks[-1].proj = nn.Linear(model.blocks[-1].proj.in_features, 2)  # 二分類\n",
    "model = model.to(device)\n"
   ]
  },
  {
   "cell_type": "markdown",
   "metadata": {
    "id": "wYjIXc878DQZ"
   },
   "source": [
    "# 訓練流程（含 train/val/test + 混淆矩陣）"
   ]
  },
  {
   "cell_type": "markdown",
   "metadata": {
    "id": "AmaSExIm8Kd-"
   },
   "source": [
    "🔧 1. 分割資料集"
   ]
  },
  {
   "cell_type": "code",
   "execution_count": 30,
   "metadata": {
    "id": "bOXRpa_j8Dul"
   },
   "outputs": [],
   "source": [
    "from sklearn.model_selection import train_test_split\n",
    "\n",
    "# 先轉成 numpy array 才能 split\n",
    "X_trainval, X_test, y_trainval, y_test = train_test_split(X, y, test_size=0.1, random_state=42)\n",
    "X_train, X_val, y_train, y_val = train_test_split(X_trainval, y_trainval, test_size=0.2, random_state=42)\n"
   ]
  },
  {
   "cell_type": "markdown",
   "metadata": {
    "id": "Xx3St4kj8O0H"
   },
   "source": [
    "📦 2. 包成 Dataset 和 DataLoader"
   ]
  },
  {
   "cell_type": "code",
   "execution_count": 31,
   "metadata": {
    "id": "5B02uqsS8PLV"
   },
   "outputs": [],
   "source": [
    "from torch.utils.data import Dataset, DataLoader\n",
    "\n",
    "class VideoDataset(Dataset):\n",
    "    def __init__(self, X, y):\n",
    "        self.X = X\n",
    "        self.y = y\n",
    "\n",
    "    def __len__(self):\n",
    "        return len(self.X)\n",
    "\n",
    "    def __getitem__(self, idx):\n",
    "        return self.X[idx], self.y[idx]\n",
    "\n",
    "train_loader = DataLoader(VideoDataset(X_train, y_train), batch_size=4, shuffle=True)\n",
    "val_loader   = DataLoader(VideoDataset(X_val, y_val),     batch_size=4, shuffle=False)\n",
    "test_loader  = DataLoader(VideoDataset(X_test, y_test),   batch_size=4, shuffle=False)\n"
   ]
  },
  {
   "cell_type": "markdown",
   "metadata": {
    "id": "bburgFAz8Tjt"
   },
   "source": [
    "🧠 3. 建立模型與訓練設定"
   ]
  },
  {
   "cell_type": "code",
   "execution_count": 32,
   "metadata": {
    "id": "34z_XbWa8TyF"
   },
   "outputs": [],
   "source": [
    "import torch.nn as nn\n",
    "from pytorchvideo.models.hub import x3d_xs\n",
    "import torch.optim as optim\n",
    "\n",
    "device = \"cuda\" if torch.cuda.is_available() else \"cpu\"\n",
    "\n",
    "model = x3d_xs(pretrained=False)\n",
    "model.blocks[-1].proj = nn.Linear(model.blocks[-1].proj.in_features, 2)\n",
    "model = model.to(device)\n",
    "\n",
    "criterion = nn.CrossEntropyLoss()\n",
    "optimizer = optim.Adam(model.parameters(), lr=1e-4)\n"
   ]
  },
  {
   "cell_type": "markdown",
   "metadata": {
    "id": "SFOcU0pW8WO_"
   },
   "source": [
    "🏃 4. 訓練＋驗證迴圈"
   ]
  },
  {
   "cell_type": "code",
   "execution_count": 37,
   "metadata": {
    "colab": {
     "base_uri": "https://localhost:8080/",
     "height": 300,
     "referenced_widgets": [
      "0cd114b7027e4e0382622b93a2901314",
      "f8edd500b51f465d9795b7659a55f3df",
      "0e6a72a08e6146beb1b1aa5eeecc57f9",
      "99ed0bcc442b48a6a7a3514e1cf51d98",
      "3cdbb7767f334b61ba194d6a7234abb2",
      "c41ed62e68f54190a5fc5e872bde7e1b",
      "6f1302ab89ea45309c826c5b1174ebdf",
      "ad388b3d42c949bc9f9c6bcf695851bb",
      "476b4a844d9647f7af3825cbf77c224c",
      "263aa946a79f4e38b81315f593bb5326",
      "6608790a9cea44b4b9666394fa77c16c",
      "2e39091552d541c4b66c015ddd1aac1e",
      "409f73127269407f8a2be2b491dcf07f",
      "5e36b9e960744c64b0148209a1b50a41",
      "81c30de824e24b09b67b002784186375",
      "468f6f0ff918446ab9b4496631c7b7bb",
      "c2642588cf53442894a121bed423e138",
      "a72aee9aaaac47cc85d8248f35ac75ab",
      "bebb5701c754437a8ad33c7f584b2046",
      "c7cd868eebab4faeb43f5f06d3ffd333",
      "11caf30c96df4ec7ae05cdeaba78a8c2",
      "79f2a750d5bd4f01af29874fe1e3028e",
      "e42500c5e355494d9ba4396414e4aa54",
      "be0cec89957646f3a4e249c503dd21ab",
      "8ce5beac0c7f4e0b973f93fe6e6a69a4",
      "6657ca317c9b4d828a67f0b25b435f2f",
      "aed709c9aff14664b66637a0d8089f46",
      "0d51951d5d4d4639a8a6a709a1c2f7d9",
      "13dd26750cfe46628e155320d3b1d423",
      "2042bf7256984296a099930ab032967f",
      "9485802db0ae4011a2cff45c1ce94962",
      "fa0531d522e7454e9d46ce0724fe76d2",
      "81aac0c22e4b4935b8fe30a51083d5bd",
      "43b7eb81990640f892d0433a5ff34877",
      "341ef13a94794c248b2149478bf0fb05",
      "b877074939c44a148e100cbdd27deb38",
      "4d38768e1cf04bc2985dff455261a6b5",
      "b3a06690dbc3490aa357a5a887d899d0",
      "5bab8c8ac4014fb8a40e1aa8bb085abe",
      "65445b4e874e4b69943000b41a615c99",
      "48a41c22435245549036ddae62e52c5c",
      "7a0937cc0d924ea39fadf411a66692c0",
      "ba629a7a81424c44b31bd1f51c9ebf20",
      "dd553745292b4bf6bff539d27aab8dab",
      "5332ff92d3c340faa55bba0183cc1eb4",
      "d3d15599c0e648b7be09a461ce66ba43",
      "170f5131442d4f5087d1f22884f8bede",
      "be74ae7d1de4408ca1c47622183ef7c5",
      "07e5787e074a49b2bd74b330c6242b8f",
      "0402aefc1e274a59be591b79db7d7760",
      "54e875be140f4d139a0897f0a9989dbe",
      "dfbd22b47fe945dcbdc9ce5643615238",
      "98a13ddaf31d431bbc9922c5212b85fa",
      "fb5ef35e68074f1d8cf773b109664675",
      "10bd0d3c93c24e2291561ee27b82c9d0",
      "8f33ebf629ca4f828ef57695420146e2",
      "56bd60f8d0ca4302bb08f74e648364f7",
      "4aac36acf69742f29a30b046c30ed201",
      "e23d5c159d45486fb92d025f6e46d963",
      "f335a9c9c086484e8bcbc4c9b6d999ea",
      "763df08ca24a4a56898acc92ff899815",
      "258036b774ad481185f1de0679822a8e",
      "243312d943874a5f919d8ddddfe4e7e3",
      "88f416b03c454826a616f4fa717a14c8",
      "3a7352b7ef5143c4a831eb4836a79d69",
      "c6b0a51e9b344968905827c4f915ab2e"
     ]
    },
    "id": "twpLHRT68Wgt",
    "outputId": "7670961b-5621-4639-990e-22185744e252"
   },
   "outputs": [
    {
     "data": {
      "application/vnd.jupyter.widget-view+json": {
       "model_id": "0cd114b7027e4e0382622b93a2901314",
       "version_major": 2,
       "version_minor": 0
      },
      "text/plain": [
       "  0%|          | 0/5 [00:00<?, ?it/s]"
      ]
     },
     "metadata": {},
     "output_type": "display_data"
    },
    {
     "data": {
      "application/vnd.jupyter.widget-view+json": {
       "model_id": "2e39091552d541c4b66c015ddd1aac1e",
       "version_major": 2,
       "version_minor": 0
      },
      "text/plain": [
       "  0%|          | 0/69 [00:00<?, ?it/s]"
      ]
     },
     "metadata": {},
     "output_type": "display_data"
    },
    {
     "name": "stdout",
     "output_type": "stream",
     "text": [
      "Epoch 1/5 | Train Loss: 39.1222 | Train Acc: 0.7445 | Val Loss: 0.6737 | Val Acc: 0.6667\n"
     ]
    },
    {
     "data": {
      "application/vnd.jupyter.widget-view+json": {
       "model_id": "e42500c5e355494d9ba4396414e4aa54",
       "version_major": 2,
       "version_minor": 0
      },
      "text/plain": [
       "  0%|          | 0/69 [00:00<?, ?it/s]"
      ]
     },
     "metadata": {},
     "output_type": "display_data"
    },
    {
     "name": "stdout",
     "output_type": "stream",
     "text": [
      "Epoch 2/5 | Train Loss: 39.1178 | Train Acc: 0.7445 | Val Loss: 0.6738 | Val Acc: 0.6667\n"
     ]
    },
    {
     "data": {
      "application/vnd.jupyter.widget-view+json": {
       "model_id": "43b7eb81990640f892d0433a5ff34877",
       "version_major": 2,
       "version_minor": 0
      },
      "text/plain": [
       "  0%|          | 0/69 [00:00<?, ?it/s]"
      ]
     },
     "metadata": {},
     "output_type": "display_data"
    },
    {
     "name": "stdout",
     "output_type": "stream",
     "text": [
      "Epoch 3/5 | Train Loss: 39.1190 | Train Acc: 0.7445 | Val Loss: 0.6739 | Val Acc: 0.6667\n"
     ]
    },
    {
     "data": {
      "application/vnd.jupyter.widget-view+json": {
       "model_id": "5332ff92d3c340faa55bba0183cc1eb4",
       "version_major": 2,
       "version_minor": 0
      },
      "text/plain": [
       "  0%|          | 0/69 [00:00<?, ?it/s]"
      ]
     },
     "metadata": {},
     "output_type": "display_data"
    },
    {
     "name": "stdout",
     "output_type": "stream",
     "text": [
      "Epoch 4/5 | Train Loss: 39.1168 | Train Acc: 0.7445 | Val Loss: 0.6740 | Val Acc: 0.6667\n"
     ]
    },
    {
     "data": {
      "application/vnd.jupyter.widget-view+json": {
       "model_id": "8f33ebf629ca4f828ef57695420146e2",
       "version_major": 2,
       "version_minor": 0
      },
      "text/plain": [
       "  0%|          | 0/69 [00:00<?, ?it/s]"
      ]
     },
     "metadata": {},
     "output_type": "display_data"
    },
    {
     "name": "stdout",
     "output_type": "stream",
     "text": [
      "Epoch 5/5 | Train Loss: 39.3659 | Train Acc: 0.7445 | Val Loss: 0.6740 | Val Acc: 0.6667\n"
     ]
    }
   ],
   "source": [
    "from tqdm.notebook import tqdm\n",
    "import gc\n",
    "def evaluate(model, dataloader):\n",
    "    model.eval()\n",
    "    correct, total, loss_total = 0, 0, 0.0\n",
    "    with torch.no_grad():\n",
    "        for inputs, labels in dataloader:\n",
    "            inputs, labels = inputs.to(device), labels.to(device)\n",
    "            outputs = model(inputs)\n",
    "            loss = criterion(outputs, labels)\n",
    "            loss_total += loss.item()\n",
    "            preds = outputs.argmax(dim=1)\n",
    "            correct += (preds == labels).sum().item()\n",
    "            total += labels.size(0)\n",
    "    return loss_total / len(dataloader), correct / total\n",
    "\n",
    "# === Training Loop ===\n",
    "num_epochs = 5\n",
    "for epoch in tqdm(range(num_epochs)):\n",
    "    model.train()\n",
    "    train_loss, correct, total = 0.0, 0, 0\n",
    "\n",
    "    for inputs, labels in tqdm(train_loader):\n",
    "        inputs, labels = inputs.to(device), labels.to(device)\n",
    "        optimizer.zero_grad()\n",
    "        outputs = model(inputs)\n",
    "        loss = criterion(outputs, labels)\n",
    "        loss.backward()\n",
    "        optimizer.step()\n",
    "\n",
    "        train_loss += loss.item()\n",
    "        preds = outputs.argmax(dim=1)\n",
    "        correct += (preds == labels).sum().item()\n",
    "        total += labels.size(0)\n",
    "        gc.collect()\n",
    "\n",
    "    train_acc = correct / total\n",
    "    val_loss, val_acc = evaluate(model, val_loader)\n",
    "    gc.collect()\n",
    "    print(f\"Epoch {epoch+1}/{num_epochs} | \"\n",
    "          f\"Train Loss: {train_loss:.4f} | Train Acc: {train_acc:.4f} | \"\n",
    "          f\"Val Loss: {val_loss:.4f} | Val Acc: {val_acc:.4f}\")\n"
   ]
  },
  {
   "cell_type": "markdown",
   "metadata": {
    "id": "hR3tpO479kN-"
   },
   "source": [
    "📊 5. 測試集混淆矩陣"
   ]
  },
  {
   "cell_type": "code",
   "execution_count": 38,
   "metadata": {
    "colab": {
     "base_uri": "https://localhost:8080/",
     "height": 472
    },
    "id": "zaSnWepz8yOe",
    "outputId": "a7fc8e3e-dda1-4007-b69b-f5162716e5d4"
   },
   "outputs": [
    {
     "data": {
      "image/png": "[encoded data removed]",
      "text/plain": [
       "<Figure size 640x480 with 2 Axes>"
      ]
     },
     "metadata": {},
     "output_type": "display_data"
    }
   ],
   "source": [
    "from sklearn.metrics import confusion_matrix, ConfusionMatrixDisplay\n",
    "import matplotlib.pyplot as plt\n",
    "\n",
    "# 推論 test set\n",
    "model.eval()\n",
    "y_true, y_pred = [], []\n",
    "with torch.no_grad():\n",
    "    for inputs, labels in test_loader:\n",
    "        inputs = inputs.to(device)\n",
    "        outputs = model(inputs)\n",
    "        preds = outputs.argmax(dim=1).cpu().numpy()\n",
    "        y_pred.extend(preds)\n",
    "        y_true.extend(labels.numpy())\n",
    "\n",
    "# 畫混淆矩陣\n",
    "cm = confusion_matrix(y_true, y_pred)\n",
    "disp = ConfusionMatrixDisplay(confusion_matrix=cm, display_labels=[\"not strike\", \"strike\"])\n",
    "disp.plot(cmap='Blues')\n",
    "plt.title(\"Test Confusion Matrix\")\n",
    "plt.show()"
   ]
  },
  {
   "cell_type": "code",
   "execution_count": null,
   "metadata": {
    "id": "Bvh-xFeyAKaF"
   },
   "outputs": [],
   "source": [
    "import nbformat\n",
    "from google.colab import files\n",
    "\n",
    "# 讀入目前的 notebook（必須手動指定名稱）\n",
    "NOTEBOOK_NAME = \"your_notebook.ipynb\"  # <-- 修改成你實際的檔名\n",
    "\n",
    "with open(NOTEBOOK_NAME, \"r\", encoding=\"utf-8\") as f:\n",
    "    nb = nbformat.read(f, as_version=4)\n",
    "\n",
    "# 移除 widgets metadata\n",
    "nb[\"metadata\"].pop(\"widgets\", None)\n",
    "\n",
    "# 儲存為新的檔案\n",
    "FIXED_NAME = \"fixed_\" + NOTEBOOK_NAME\n",
    "with open(FIXED_NAME, \"w\", encoding=\"utf-8\") as f:\n",
    "    nbformat.write(nb, f)\n",
    "\n",
    "# 下載修復後的 notebook\n",
    "files.download(FIXED_NAME)\n"
   ]
  }
 ],
 "metadata": {
  "accelerator": "GPU",
  "colab": {
   "gpuType": "T4",
   "provenance": []
  },
  "kernelspec": {
   "display_name": "Python 3",
   "name": "python3"
  },
  "language_info": {
   "name": "python"
  }
 },
 "nbformat": 4,
 "nbformat_minor": 0
}
