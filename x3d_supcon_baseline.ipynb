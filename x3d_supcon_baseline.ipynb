{
  "cells": [
    {
      "cell_type": "code",
      "source": [
        "from google.colab import drive\n",
        "drive.mount('/content/drive')"
      ],
      "metadata": {
        "id": "ZfmxHxOOW4Jc",
        "outputId": "a40264c9-bd00-48de-fc36-8d3c4193d825",
        "colab": {
          "base_uri": "https://localhost:8080/"
        }
      },
      "execution_count": 1,
      "outputs": [
        {
          "output_type": "stream",
          "name": "stdout",
          "text": [
            "Mounted at /content/drive\n"
          ]
        }
      ]
    },
    {
      "cell_type": "code",
      "execution_count": 2,
      "metadata": {
        "colab": {
          "base_uri": "https://localhost:8080/"
        },
        "id": "yOmDd03gssFo",
        "outputId": "1f9b07a9-c447-43ec-9f2d-7e19acac1535"
      },
      "outputs": [
        {
          "output_type": "stream",
          "name": "stdout",
          "text": [
            "Collecting pytorchvideo\n",
            "  Downloading pytorchvideo-0.1.5.tar.gz (132 kB)\n",
            "\u001b[2K     \u001b[90m━━━━━━━━━━━━━━━━━━━━━━━━━━━━━━━━━━━━━━━\u001b[0m \u001b[32m132.7/132.7 kB\u001b[0m \u001b[31m4.3 MB/s\u001b[0m eta \u001b[36m0:00:00\u001b[0m\n",
            "\u001b[?25h  Preparing metadata (setup.py) ... \u001b[?25l\u001b[?25hdone\n",
            "Collecting fvcore (from pytorchvideo)\n",
            "  Downloading fvcore-0.1.5.post20221221.tar.gz (50 kB)\n",
            "\u001b[2K     \u001b[90m━━━━━━━━━━━━━━━━━━━━━━━━━━━━━━━━━━━━━━━━\u001b[0m \u001b[32m50.2/50.2 kB\u001b[0m \u001b[31m4.6 MB/s\u001b[0m eta \u001b[36m0:00:00\u001b[0m\n",
            "\u001b[?25h  Preparing metadata (setup.py) ... \u001b[?25l\u001b[?25hdone\n",
            "Collecting av (from pytorchvideo)\n",
            "  Downloading av-14.4.0-cp311-cp311-manylinux_2_17_x86_64.manylinux2014_x86_64.whl.metadata (4.6 kB)\n",
            "Collecting parameterized (from pytorchvideo)\n",
            "  Downloading parameterized-0.9.0-py2.py3-none-any.whl.metadata (18 kB)\n",
            "Collecting iopath (from pytorchvideo)\n",
            "  Downloading iopath-0.1.10.tar.gz (42 kB)\n",
            "\u001b[2K     \u001b[90m━━━━━━━━━━━━━━━━━━━━━━━━━━━━━━━━━━━━━━━━\u001b[0m \u001b[32m42.2/42.2 kB\u001b[0m \u001b[31m3.9 MB/s\u001b[0m eta \u001b[36m0:00:00\u001b[0m\n",
            "\u001b[?25h  Preparing metadata (setup.py) ... \u001b[?25l\u001b[?25hdone\n",
            "Requirement already satisfied: networkx in /usr/local/lib/python3.11/dist-packages (from pytorchvideo) (3.5)\n",
            "Requirement already satisfied: numpy in /usr/local/lib/python3.11/dist-packages (from fvcore->pytorchvideo) (2.0.2)\n",
            "Collecting yacs>=0.1.6 (from fvcore->pytorchvideo)\n",
            "  Downloading yacs-0.1.8-py3-none-any.whl.metadata (639 bytes)\n",
            "Requirement already satisfied: pyyaml>=5.1 in /usr/local/lib/python3.11/dist-packages (from fvcore->pytorchvideo) (6.0.2)\n",
            "Requirement already satisfied: tqdm in /usr/local/lib/python3.11/dist-packages (from fvcore->pytorchvideo) (4.67.1)\n",
            "Requirement already satisfied: termcolor>=1.1 in /usr/local/lib/python3.11/dist-packages (from fvcore->pytorchvideo) (3.1.0)\n",
            "Requirement already satisfied: Pillow in /usr/local/lib/python3.11/dist-packages (from fvcore->pytorchvideo) (11.2.1)\n",
            "Requirement already satisfied: tabulate in /usr/local/lib/python3.11/dist-packages (from fvcore->pytorchvideo) (0.9.0)\n",
            "Requirement already satisfied: typing_extensions in /usr/local/lib/python3.11/dist-packages (from iopath->pytorchvideo) (4.14.0)\n",
            "Collecting portalocker (from iopath->pytorchvideo)\n",
            "  Downloading portalocker-3.2.0-py3-none-any.whl.metadata (8.7 kB)\n",
            "Downloading av-14.4.0-cp311-cp311-manylinux_2_17_x86_64.manylinux2014_x86_64.whl (35.3 MB)\n",
            "\u001b[2K   \u001b[90m━━━━━━━━━━━━━━━━━━━━━━━━━━━━━━━━━━━━━━━━\u001b[0m \u001b[32m35.3/35.3 MB\u001b[0m \u001b[31m48.7 MB/s\u001b[0m eta \u001b[36m0:00:00\u001b[0m\n",
            "\u001b[?25hDownloading parameterized-0.9.0-py2.py3-none-any.whl (20 kB)\n",
            "Downloading yacs-0.1.8-py3-none-any.whl (14 kB)\n",
            "Downloading portalocker-3.2.0-py3-none-any.whl (22 kB)\n",
            "Building wheels for collected packages: pytorchvideo, fvcore, iopath\n",
            "  Building wheel for pytorchvideo (setup.py) ... \u001b[?25l\u001b[?25hdone\n",
            "  Created wheel for pytorchvideo: filename=pytorchvideo-0.1.5-py3-none-any.whl size=188686 sha256=e6b091ebcfabd4d75d198844eab88a8863ed23b7bdfbe99bcec2c795ad9e4dee\n",
            "  Stored in directory: /root/.cache/pip/wheels/a4/6d/ae/d016375a73be141a0e11bb42289e2d0b046c35687fc8010ecc\n",
            "  Building wheel for fvcore (setup.py) ... \u001b[?25l\u001b[?25hdone\n",
            "  Created wheel for fvcore: filename=fvcore-0.1.5.post20221221-py3-none-any.whl size=61397 sha256=eb037e60101ff405bbb37069bcb7dfdb50862bd93d8ce8fc14a826b3e086e7b7\n",
            "  Stored in directory: /root/.cache/pip/wheels/65/71/95/3b8fde5c65c6e4a806e0867c1651dcc71a1cb2f3430e8f355f\n",
            "  Building wheel for iopath (setup.py) ... \u001b[?25l\u001b[?25hdone\n",
            "  Created wheel for iopath: filename=iopath-0.1.10-py3-none-any.whl size=31527 sha256=d44e738f55f33799077aedba9e5fb5fa6fbbe92889c5007637d27b1153568d62\n",
            "  Stored in directory: /root/.cache/pip/wheels/ba/5e/16/6117f8fe7e9c0c161a795e10d94645ebcf301ccbd01f66d8ec\n",
            "Successfully built pytorchvideo fvcore iopath\n",
            "Installing collected packages: yacs, portalocker, parameterized, av, iopath, fvcore, pytorchvideo\n",
            "Successfully installed av-14.4.0 fvcore-0.1.5.post20221221 iopath-0.1.10 parameterized-0.9.0 portalocker-3.2.0 pytorchvideo-0.1.5 yacs-0.1.8\n"
          ]
        }
      ],
      "source": [
        "!pip install pytorchvideo"
      ]
    },
    {
      "cell_type": "markdown",
      "metadata": {
        "id": "NtkNIHzRy3vA"
      },
      "source": [
        "# 影片轉tensor"
      ]
    },
    {
      "cell_type": "code",
      "execution_count": 3,
      "metadata": {
        "colab": {
          "base_uri": "https://localhost:8080/",
          "height": 90
        },
        "id": "u6TYDwlBtVEr",
        "outputId": "1d481499-f0ff-4997-fb88-84e39a2f9402"
      },
      "outputs": [
        {
          "output_type": "execute_result",
          "data": {
            "text/plain": [
              "'\\n# === 批次處理所有影片 ===\\nvideo_list = sorted([f for f in os.listdir(video_dir) if f.endswith(\".mp4\")])\\nfor video_file in tqdm(video_list, desc=\"Processing videos\"):\\n    video_path = os.path.join(video_dir, video_file)\\n    tensor = video_to_tensor(video_path)\\n    if tensor is not None:\\n        save_path = os.path.join(save_dir, video_file.replace(\".mp4\", \".pt\"))\\n        torch.save(tensor, save_path)\\n'"
            ],
            "application/vnd.google.colaboratory.intrinsic+json": {
              "type": "string"
            }
          },
          "metadata": {},
          "execution_count": 3
        }
      ],
      "source": [
        "import os\n",
        "import cv2\n",
        "import torch\n",
        "import numpy as np\n",
        "from PIL import Image\n",
        "from tqdm import tqdm\n",
        "from torchvision.transforms import Compose, ToTensor, Normalize\n",
        "from torchvision.transforms.functional import center_crop\n",
        "\n",
        "# === 設定 ===\n",
        "video_dir = \"/content/drive/MyDrive/Baseball Movies/釀酒人主場videos_4S/Milwaukee_Brewers_FF_videos_4S\"\n",
        "save_dir = os.path.join(video_dir, \"tensors_x3d\")\n",
        "os.makedirs(save_dir, exist_ok=True)\n",
        "\n",
        "# === 前處理參數 ===\n",
        "NUM_FRAMES = 13\n",
        "RESIZE_SIZE = 160\n",
        "transform = Compose([\n",
        "    ToTensor(),\n",
        "    Normalize(mean=[0.45, 0.45, 0.45], std=[0.225, 0.225, 0.225])\n",
        "])\n",
        "\n",
        "# === 影片 → Tensor 函數 ===\n",
        "def video_to_tensor(video_path, num_frames=NUM_FRAMES, size=RESIZE_SIZE):\n",
        "    cap = cv2.VideoCapture(video_path)\n",
        "    total_frames = int(cap.get(cv2.CAP_PROP_FRAME_COUNT))\n",
        "    indices = np.linspace(0, total_frames - 1, num=num_frames, dtype=int)\n",
        "\n",
        "    frames = []\n",
        "    for idx in indices:\n",
        "        cap.set(cv2.CAP_PROP_POS_FRAMES, idx)\n",
        "        ret, frame = cap.read()\n",
        "        if not ret:\n",
        "            break\n",
        "        frame = cv2.cvtColor(frame, cv2.COLOR_BGR2RGB)\n",
        "        frame = Image.fromarray(frame)\n",
        "        frame = center_crop(frame, size)\n",
        "        frame = frame.resize((size, size))  # (H, W)\n",
        "        frames.append(transform(frame))  # → (C, H, W)\n",
        "\n",
        "    cap.release()\n",
        "    if len(frames) != num_frames:\n",
        "        return None  # 忽略長度不足的影片\n",
        "\n",
        "    video_tensor = torch.stack(frames, dim=1)  # (C, T, H, W)\n",
        "    return video_tensor\n",
        "'''\n",
        "# === 批次處理所有影片 ===\n",
        "video_list = sorted([f for f in os.listdir(video_dir) if f.endswith(\".mp4\")])\n",
        "for video_file in tqdm(video_list, desc=\"Processing videos\"):\n",
        "    video_path = os.path.join(video_dir, video_file)\n",
        "    tensor = video_to_tensor(video_path)\n",
        "    if tensor is not None:\n",
        "        save_path = os.path.join(save_dir, video_file.replace(\".mp4\", \".pt\"))\n",
        "        torch.save(tensor, save_path)\n",
        "'''"
      ]
    },
    {
      "cell_type": "markdown",
      "metadata": {
        "id": "XW8A5O-e41HZ"
      },
      "source": [
        "# 整理成X,Y"
      ]
    },
    {
      "cell_type": "code",
      "execution_count": 4,
      "metadata": {
        "colab": {
          "base_uri": "https://localhost:8080/"
        },
        "id": "SPznvsdL4pmJ",
        "outputId": "8dfe90a6-b372-46e7-9fef-589414a95f61"
      },
      "outputs": [
        {
          "output_type": "stream",
          "name": "stderr",
          "text": [
            "Loading tensors: 100%|██████████| 382/382 [00:38<00:00,  9.95it/s]"
          ]
        },
        {
          "output_type": "stream",
          "name": "stdout",
          "text": [
            "✅ Loaded 382 samples\n"
          ]
        },
        {
          "output_type": "stream",
          "name": "stderr",
          "text": [
            "\n"
          ]
        }
      ],
      "source": [
        "import os\n",
        "import torch\n",
        "import pandas as pd\n",
        "from tqdm import tqdm\n",
        "\n",
        "# === 路徑設定 ===\n",
        "tensor_dir = \"/content/drive/MyDrive/Baseball Movies/釀酒人主場videos_4S/Milwaukee_Brewers_FF_videos_4S/tensors_x3d\"\n",
        "csv_path = \"/content/drive/MyDrive/Baseball Movies/釀酒人主場videos_4S/Milwaukee_Brewers_FF_videos_4S/Milwaukee_Brewers_FF.csv\"\n",
        "\n",
        "# === 讀取 CSV：建立 filename → description 的對應字典 ===\n",
        "df = pd.read_csv(csv_path)\n",
        "label_dict = dict(zip(df[\"Filename\"], df[\"description\"]))  # e.g., {\"pitch_0001.mp4\": \"strike\"}\n",
        "\n",
        "# === 讀取所有 .pt 檔案，並對應回 label ===\n",
        "X = []\n",
        "y = []\n",
        "\n",
        "tensor_files = sorted([f for f in os.listdir(tensor_dir) if f.endswith(\".pt\")])\n",
        "for pt_file in tqdm(tensor_files, desc=\"Loading tensors\"):\n",
        "    mp4_filename = pt_file.replace(\".pt\", \".mp4\")\n",
        "\n",
        "    if mp4_filename not in label_dict:\n",
        "        print(f\"⚠️ {mp4_filename} not found in CSV, skipping.\")\n",
        "        continue\n",
        "\n",
        "    tensor_path = os.path.join(tensor_dir, pt_file)\n",
        "    video_tensor = torch.load(tensor_path)  # (3, T, H, W)\n",
        "\n",
        "    label = label_dict[mp4_filename]\n",
        "\n",
        "    X.append(video_tensor)\n",
        "    y.append(label)  # or use label_map[label] if you want to map to integers\n",
        "\n",
        "print(f\"✅ Loaded {len(X)} samples\")\n"
      ]
    },
    {
      "cell_type": "markdown",
      "metadata": {
        "id": "HCjYA5eZ5_Nu"
      },
      "source": [
        "# 將y做encoding"
      ]
    },
    {
      "cell_type": "code",
      "execution_count": 5,
      "metadata": {
        "id": "DhXs6HZA5-d_"
      },
      "outputs": [],
      "source": [
        "y = [1 if (\"strike\" in label.lower() or \"foul\" in label.lower()) else 0 for label in y]"
      ]
    },
    {
      "cell_type": "code",
      "source": [
        "X_list = X\n",
        "y_list = y"
      ],
      "metadata": {
        "id": "aQCGls2NYNFD"
      },
      "execution_count": 10,
      "outputs": []
    },
    {
      "cell_type": "markdown",
      "source": [
        "# supcon loss"
      ],
      "metadata": {
        "id": "T_kxJJtEXSvB"
      }
    },
    {
      "cell_type": "code",
      "source": [
        "# === 1. Import ===\n",
        "import torch\n",
        "import torch.nn as nn\n",
        "import torch.nn.functional as F\n",
        "from torch.utils.data import Dataset, DataLoader\n",
        "from pytorchvideo.models.hub import x3d_xs\n",
        "from sklearn.manifold import TSNE\n",
        "import matplotlib.pyplot as plt\n",
        "import numpy as np\n",
        "import random\n",
        "\n",
        "# === 2. 固定種子 ===\n",
        "def seed_all(seed=42):\n",
        "    random.seed(seed)\n",
        "    np.random.seed(seed)\n",
        "    torch.manual_seed(seed)\n",
        "    torch.cuda.manual_seed_all(seed)\n",
        "\n",
        "seed_all()\n",
        "\n",
        "# === 3. Dataset（假設你已經轉成 Tensor）===\n",
        "class SimpleVideoDataset(Dataset):\n",
        "    def __init__(self, X, y):\n",
        "        self.X = X  # list of [3, 13, 160, 160]\n",
        "        self.y = y  # list of int\n",
        "\n",
        "    def __len__(self):\n",
        "        return len(self.X)\n",
        "\n",
        "    def __getitem__(self, idx):\n",
        "        return self.X[idx], self.y[idx]\n",
        "\n",
        "# === 4. SupCon Loss ===\n",
        "class SupConLoss(nn.Module):\n",
        "    def __init__(self, temperature=0.07):\n",
        "        super().__init__()\n",
        "        self.temperature = temperature\n",
        "\n",
        "    def forward(self, features, labels):\n",
        "        device = features.device\n",
        "        features = F.normalize(features, dim=1)\n",
        "        similarity_matrix = torch.matmul(features, features.T) / self.temperature\n",
        "\n",
        "        labels = labels.contiguous().view(-1, 1)\n",
        "        mask = torch.eq(labels, labels.T).float().to(device)\n",
        "        logits_mask = ~torch.eye(labels.shape[0], dtype=torch.bool).to(device)\n",
        "        mask = mask * logits_mask\n",
        "\n",
        "        exp_sim = torch.exp(similarity_matrix) * logits_mask\n",
        "        log_prob = similarity_matrix - torch.log(exp_sim.sum(dim=1, keepdim=True) + 1e-12)\n",
        "        mean_log_prob_pos = (mask * log_prob).sum(1) / (mask.sum(1) + 1e-12)\n",
        "        loss = -mean_log_prob_pos.mean()\n",
        "        return loss\n",
        "\n",
        "# === 5. 模型架構 ===\n",
        "class SupConModel(nn.Module):\n",
        "    def __init__(self):\n",
        "        super().__init__()\n",
        "        self.encoder = x3d_xs(pretrained=True)\n",
        "        self.encoder.blocks[-1].proj = nn.Identity()  # 拿掉分類 head\n",
        "        self.projection = nn.Sequential(\n",
        "            nn.Linear(2048, 128),\n",
        "            nn.ReLU(),\n",
        "            nn.Linear(128, 64)\n",
        "        )\n",
        "\n",
        "    def forward(self, x):\n",
        "        x = self.encoder(x)\n",
        "        x = self.projection(x)\n",
        "        return x\n",
        "\n",
        "# === 6. 準備訓練 ===\n",
        "device = 'cuda' if torch.cuda.is_available() else 'cpu'\n",
        "model = SupConModel().to(device)\n",
        "criterion = SupConLoss()\n",
        "optimizer = torch.optim.Adam(model.parameters(), lr=1e-4)\n",
        "\n",
        "# 假設你有：X_list, y_list\n",
        "# X_tensor = torch.stack(X_list)  # optional if you want batch input\n",
        "dataset = SimpleVideoDataset(X_list, y_list)\n",
        "loader = DataLoader(dataset, batch_size=16, shuffle=True)\n",
        "\n",
        "# === 7. 開始訓練 ===\n",
        "model.train()\n",
        "for epoch in range(10):\n",
        "    for x, y in loader:\n",
        "        x, y = x.to(device), y.to(device)\n",
        "        features = model(x)\n",
        "        loss = criterion(features, y)\n",
        "\n",
        "        optimizer.zero_grad()\n",
        "        loss.backward()\n",
        "        optimizer.step()\n",
        "\n",
        "    print(f\"Epoch {epoch} | Loss: {loss.item():.4f}\")\n"
      ],
      "metadata": {
        "id": "j4AINjKkXpG6",
        "outputId": "8bd633f7-1abb-46f5-c25a-2d8d4df94c38",
        "colab": {
          "base_uri": "https://localhost:8080/"
        }
      },
      "execution_count": 12,
      "outputs": [
        {
          "output_type": "stream",
          "name": "stdout",
          "text": [
            "Epoch 0 | Loss: 2.5649\n",
            "Epoch 1 | Loss: 2.5649\n",
            "Epoch 2 | Loss: 2.5649\n",
            "Epoch 3 | Loss: 2.5649\n",
            "Epoch 4 | Loss: 2.5641\n",
            "Epoch 5 | Loss: 2.5924\n",
            "Epoch 6 | Loss: 2.0849\n",
            "Epoch 7 | Loss: 2.1332\n",
            "Epoch 8 | Loss: 1.8022\n",
            "Epoch 9 | Loss: 2.2554\n"
          ]
        }
      ]
    },
    {
      "cell_type": "code",
      "source": [
        "model.eval()\n",
        "all_features, all_labels = [], []\n",
        "with torch.no_grad():\n",
        "    for x, y in loader:\n",
        "        x = x.to(device)\n",
        "        features = model(x)\n",
        "        all_features.append(features.cpu())\n",
        "        all_labels.extend(y)\n",
        "\n",
        "all_features = torch.cat(all_features).numpy()\n",
        "all_labels = np.array(all_labels)\n",
        "\n",
        "tsne = TSNE(n_components=2, random_state=42)\n",
        "tsne_result = tsne.fit_transform(all_features)\n",
        "\n",
        "plt.figure(figsize=(8, 6))\n",
        "for label in np.unique(all_labels):\n",
        "    idxs = all_labels == label\n",
        "    plt.scatter(tsne_result[idxs, 0], tsne_result[idxs, 1], label=str(label))\n",
        "plt.legend()\n",
        "plt.title(\"SupCon Feature Embedding (t-SNE)\")\n",
        "plt.show()\n"
      ],
      "metadata": {
        "id": "XA-F4tRsXWMs",
        "outputId": "052bf33f-c520-405f-9bb9-eb4d8608a118",
        "colab": {
          "base_uri": "https://localhost:8080/",
          "height": 545
        }
      },
      "execution_count": 13,
      "outputs": [
        {
          "output_type": "display_data",
          "data": {
            "text/plain": [
              "<Figure size 800x600 with 1 Axes>"
            ],
            "image/png": "[encoded data removed]"
          },
          "metadata": {}
        }
      ]
    },
    {
      "cell_type": "markdown",
      "source": [
        "# 分類訓練"
      ],
      "metadata": {
        "id": "usP8GV-2ZGI0"
      }
    },
    {
      "cell_type": "code",
      "source": [
        "# === 6. 分類模型（使用訓練好的 encoder）===\n",
        "class Classifier(nn.Module):\n",
        "    def __init__(self, encoder, num_classes):\n",
        "        super().__init__()\n",
        "        self.encoder = encoder  # 預訓練好的 encoder（可選擇是否凍結）\n",
        "        self.classifier = nn.Linear(2048, num_classes)\n",
        "\n",
        "    def forward(self, x):\n",
        "        with torch.no_grad():\n",
        "            x = self.encoder(x)\n",
        "        return self.classifier(x)"
      ],
      "metadata": {
        "id": "2sPqovZcY5T9"
      },
      "execution_count": 16,
      "outputs": []
    },
    {
      "cell_type": "code",
      "source": [
        "# === 9. 微調分類器 ===\n",
        "print(\"\\n=== Fine-tuning Classifier ===\")\n",
        "\n",
        "# 初始化分類器，使用 encoder 的 feature extractor（不包含 projection head）\n",
        "frozen_encoder = model.encoder\n",
        "num_classes = len(set(y_list))\n",
        "classifier_model = Classifier(frozen_encoder, num_classes).to(device)\n",
        "\n",
        "# 解凍 encoder 可選：取消 with torch.no_grad() → 再訓練 encoder\n",
        "optimizer_cls = torch.optim.Adam(classifier_model.classifier.parameters(), lr=1e-3)\n",
        "criterion_cls = nn.CrossEntropyLoss()\n",
        "\n",
        "classifier_model.train()\n",
        "for epoch in range(10):\n",
        "    total, correct = 0, 0\n",
        "    for x, y in loader:\n",
        "        x, y = x.to(device), y.to(device)\n",
        "        logits = classifier_model(x)\n",
        "        loss = criterion_cls(logits, y)\n",
        "\n",
        "        optimizer_cls.zero_grad()\n",
        "        loss.backward()\n",
        "        optimizer_cls.step()\n",
        "\n",
        "        preds = logits.argmax(dim=1)\n",
        "        correct += (preds == y).sum().item()\n",
        "        total += y.size(0)\n",
        "\n",
        "    acc = correct / total\n",
        "    print(f\"[CLS] Epoch {epoch} | Loss: {loss.item():.4f} | Acc: {acc:.2%}\")\n"
      ],
      "metadata": {
        "id": "Aq8mkn9BZJEp",
        "outputId": "d9e46ea4-129f-4e9a-e7cd-e95872a2b460",
        "colab": {
          "base_uri": "https://localhost:8080/"
        }
      },
      "execution_count": 17,
      "outputs": [
        {
          "output_type": "stream",
          "name": "stdout",
          "text": [
            "\n",
            "=== Fine-tuning Classifier ===\n",
            "[CLS] Epoch 0 | Loss: 0.6821 | Acc: 68.32%\n",
            "[CLS] Epoch 1 | Loss: 0.6709 | Acc: 99.74%\n",
            "[CLS] Epoch 2 | Loss: 0.6620 | Acc: 100.00%\n",
            "[CLS] Epoch 3 | Loss: 0.6507 | Acc: 99.48%\n",
            "[CLS] Epoch 4 | Loss: 0.6401 | Acc: 99.74%\n",
            "[CLS] Epoch 5 | Loss: 0.6350 | Acc: 99.48%\n",
            "[CLS] Epoch 6 | Loss: 0.6227 | Acc: 99.21%\n",
            "[CLS] Epoch 7 | Loss: 0.6224 | Acc: 99.21%\n",
            "[CLS] Epoch 8 | Loss: 0.6082 | Acc: 99.48%\n",
            "[CLS] Epoch 9 | Loss: 0.5930 | Acc: 99.48%\n"
          ]
        }
      ]
    },
    {
      "cell_type": "code",
      "source": [],
      "metadata": {
        "id": "g2sGjrZ_ZiRl"
      },
      "execution_count": null,
      "outputs": []
    }
  ],
  "metadata": {
    "accelerator": "GPU",
    "colab": {
      "gpuType": "T4",
      "provenance": []
    },
    "kernelspec": {
      "display_name": "Python 3",
      "name": "python3"
    },
    "language_info": {
      "name": "python"
    }
  },
  "nbformat": 4,
  "nbformat_minor": 0
}