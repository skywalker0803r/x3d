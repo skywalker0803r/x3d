{
  "cells": [
    {
      "cell_type": "code",
      "source": [
        "from google.colab import drive\n",
        "drive.mount('/content/drive')"
      ],
      "metadata": {
        "colab": {
          "base_uri": "https://localhost:8080/"
        },
        "id": "ZfmxHxOOW4Jc",
        "outputId": "262c7bca-d09f-40dd-cc78-50c48666b8cd"
      },
      "execution_count": 1,
      "outputs": [
        {
          "output_type": "stream",
          "name": "stdout",
          "text": [
            "Drive already mounted at /content/drive; to attempt to forcibly remount, call drive.mount(\"/content/drive\", force_remount=True).\n"
          ]
        }
      ]
    },
    {
      "cell_type": "code",
      "execution_count": 2,
      "metadata": {
        "colab": {
          "base_uri": "https://localhost:8080/"
        },
        "id": "yOmDd03gssFo",
        "outputId": "56c7c73f-de19-4b1b-ad9f-9ccb581b835e"
      },
      "outputs": [
        {
          "output_type": "stream",
          "name": "stdout",
          "text": [
            "Requirement already satisfied: pytorchvideo in /usr/local/lib/python3.11/dist-packages (0.1.5)\n",
            "Requirement already satisfied: fvcore in /usr/local/lib/python3.11/dist-packages (from pytorchvideo) (0.1.5.post20221221)\n",
            "Requirement already satisfied: av in /usr/local/lib/python3.11/dist-packages (from pytorchvideo) (14.4.0)\n",
            "Requirement already satisfied: parameterized in /usr/local/lib/python3.11/dist-packages (from pytorchvideo) (0.9.0)\n",
            "Requirement already satisfied: iopath in /usr/local/lib/python3.11/dist-packages (from pytorchvideo) (0.1.10)\n",
            "Requirement already satisfied: networkx in /usr/local/lib/python3.11/dist-packages (from pytorchvideo) (3.5)\n",
            "Requirement already satisfied: numpy in /usr/local/lib/python3.11/dist-packages (from fvcore->pytorchvideo) (2.0.2)\n",
            "Requirement already satisfied: yacs>=0.1.6 in /usr/local/lib/python3.11/dist-packages (from fvcore->pytorchvideo) (0.1.8)\n",
            "Requirement already satisfied: pyyaml>=5.1 in /usr/local/lib/python3.11/dist-packages (from fvcore->pytorchvideo) (6.0.2)\n",
            "Requirement already satisfied: tqdm in /usr/local/lib/python3.11/dist-packages (from fvcore->pytorchvideo) (4.67.1)\n",
            "Requirement already satisfied: termcolor>=1.1 in /usr/local/lib/python3.11/dist-packages (from fvcore->pytorchvideo) (3.1.0)\n",
            "Requirement already satisfied: Pillow in /usr/local/lib/python3.11/dist-packages (from fvcore->pytorchvideo) (11.2.1)\n",
            "Requirement already satisfied: tabulate in /usr/local/lib/python3.11/dist-packages (from fvcore->pytorchvideo) (0.9.0)\n",
            "Requirement already satisfied: typing-extensions in /usr/local/lib/python3.11/dist-packages (from iopath->pytorchvideo) (4.14.0)\n",
            "Requirement already satisfied: portalocker in /usr/local/lib/python3.11/dist-packages (from iopath->pytorchvideo) (3.2.0)\n"
          ]
        }
      ],
      "source": [
        "!pip install pytorchvideo"
      ]
    },
    {
      "cell_type": "markdown",
      "metadata": {
        "id": "NtkNIHzRy3vA"
      },
      "source": [
        "# 影片轉tensor"
      ]
    },
    {
      "cell_type": "code",
      "execution_count": 3,
      "metadata": {
        "colab": {
          "base_uri": "https://localhost:8080/",
          "height": 126
        },
        "id": "u6TYDwlBtVEr",
        "outputId": "37286bc0-9dbf-40d5-8fae-25c7ee243dd9"
      },
      "outputs": [
        {
          "output_type": "execute_result",
          "data": {
            "text/plain": [
              "'\\n# === 批次處理所有影片 ===\\nvideo_list = sorted([f for f in os.listdir(video_dir) if f.endswith(\".mp4\")])\\nfor video_file in tqdm(video_list, desc=\"Processing videos\"):\\n    video_path = os.path.join(video_dir, video_file)\\n    tensor = video_to_tensor(video_path)\\n    if tensor is not None:\\n        save_path = os.path.join(save_dir, video_file.replace(\".mp4\", \".pt\"))\\n        torch.save(tensor, save_path)\\n'"
            ],
            "application/vnd.google.colaboratory.intrinsic+json": {
              "type": "string"
            }
          },
          "metadata": {},
          "execution_count": 3
        }
      ],
      "source": [
        "import os\n",
        "import cv2\n",
        "import torch\n",
        "import numpy as np\n",
        "from PIL import Image\n",
        "from tqdm import tqdm\n",
        "from torchvision.transforms import Compose, ToTensor, Normalize\n",
        "from torchvision.transforms.functional import center_crop\n",
        "\n",
        "# === 設定 ===\n",
        "video_dir = \"/content/drive/MyDrive/Baseball Movies/釀酒人主場videos_4S/Milwaukee_Brewers_FF_videos_4S\"\n",
        "save_dir = os.path.join(video_dir, \"tensors_x3d\")\n",
        "os.makedirs(save_dir, exist_ok=True)\n",
        "\n",
        "# === 前處理參數 ===\n",
        "NUM_FRAMES = 60\n",
        "RESIZE_SIZE = 160\n",
        "transform = Compose([\n",
        "    ToTensor(),\n",
        "    Normalize(mean=[0.45, 0.45, 0.45], std=[0.225, 0.225, 0.225])\n",
        "])\n",
        "\n",
        "# === 影片 → Tensor 函數 ===\n",
        "def video_to_tensor(video_path, num_frames=NUM_FRAMES, size=RESIZE_SIZE):\n",
        "    cap = cv2.VideoCapture(video_path)\n",
        "    total_frames = int(cap.get(cv2.CAP_PROP_FRAME_COUNT))\n",
        "    indices = np.linspace(0, total_frames - 1, num=num_frames, dtype=int)\n",
        "\n",
        "    frames = []\n",
        "    for idx in indices:\n",
        "        cap.set(cv2.CAP_PROP_POS_FRAMES, idx)\n",
        "        ret, frame = cap.read()\n",
        "        if not ret:\n",
        "            break\n",
        "        frame = cv2.cvtColor(frame, cv2.COLOR_BGR2RGB)\n",
        "        frame = Image.fromarray(frame)\n",
        "        frame = center_crop(frame, size)\n",
        "        frame = frame.resize((size, size))  # (H, W)\n",
        "        frames.append(transform(frame))  # → (C, H, W)\n",
        "\n",
        "    cap.release()\n",
        "    if len(frames) != num_frames:\n",
        "        return None  # 忽略長度不足的影片\n",
        "\n",
        "    video_tensor = torch.stack(frames, dim=1)  # (C, T, H, W)\n",
        "    return video_tensor\n",
        "'''\n",
        "# === 批次處理所有影片 ===\n",
        "video_list = sorted([f for f in os.listdir(video_dir) if f.endswith(\".mp4\")])\n",
        "for video_file in tqdm(video_list, desc=\"Processing videos\"):\n",
        "    video_path = os.path.join(video_dir, video_file)\n",
        "    tensor = video_to_tensor(video_path)\n",
        "    if tensor is not None:\n",
        "        save_path = os.path.join(save_dir, video_file.replace(\".mp4\", \".pt\"))\n",
        "        torch.save(tensor, save_path)\n",
        "'''"
      ]
    },
    {
      "cell_type": "markdown",
      "metadata": {
        "id": "XW8A5O-e41HZ"
      },
      "source": [
        "# 整理成X,Y"
      ]
    },
    {
      "cell_type": "code",
      "execution_count": 4,
      "metadata": {
        "colab": {
          "base_uri": "https://localhost:8080/"
        },
        "id": "SPznvsdL4pmJ",
        "outputId": "9096cc39-6eb7-470d-83b7-8354e6a47819"
      },
      "outputs": [
        {
          "output_type": "stream",
          "name": "stderr",
          "text": [
            "Loading tensors: 100%|██████████| 382/382 [00:47<00:00,  8.09it/s]"
          ]
        },
        {
          "output_type": "stream",
          "name": "stdout",
          "text": [
            "✅ Loaded 382 samples\n"
          ]
        },
        {
          "output_type": "stream",
          "name": "stderr",
          "text": [
            "\n"
          ]
        }
      ],
      "source": [
        "import os\n",
        "import torch\n",
        "import pandas as pd\n",
        "from tqdm import tqdm\n",
        "\n",
        "# === 路徑設定 ===\n",
        "tensor_dir = \"/content/drive/MyDrive/Baseball Movies/釀酒人主場videos_4S/Milwaukee_Brewers_FF_videos_4S/tensors_x3d\"\n",
        "csv_path = \"/content/drive/MyDrive/Baseball Movies/釀酒人主場videos_4S/Milwaukee_Brewers_FF_videos_4S/Milwaukee_Brewers_FF.csv\"\n",
        "\n",
        "# === 讀取 CSV：建立 filename → description 的對應字典 ===\n",
        "df = pd.read_csv(csv_path)\n",
        "label_dict = dict(zip(df[\"Filename\"], df[\"description\"]))  # e.g., {\"pitch_0001.mp4\": \"strike\"}\n",
        "\n",
        "# === 讀取所有 .pt 檔案，並對應回 label ===\n",
        "X = []\n",
        "y = []\n",
        "\n",
        "tensor_files = sorted([f for f in os.listdir(tensor_dir) if f.endswith(\".pt\")])\n",
        "for pt_file in tqdm(tensor_files, desc=\"Loading tensors\"):\n",
        "    mp4_filename = pt_file.replace(\".pt\", \".mp4\")\n",
        "\n",
        "    if mp4_filename not in label_dict:\n",
        "        print(f\"⚠️ {mp4_filename} not found in CSV, skipping.\")\n",
        "        continue\n",
        "\n",
        "    tensor_path = os.path.join(tensor_dir, pt_file)\n",
        "    video_tensor = torch.load(tensor_path)  # (3, T, H, W)\n",
        "\n",
        "    label = label_dict[mp4_filename]\n",
        "\n",
        "    X.append(video_tensor)\n",
        "    y.append(label)  # or use label_map[label] if you want to map to integers\n",
        "\n",
        "print(f\"✅ Loaded {len(X)} samples\")\n"
      ]
    },
    {
      "cell_type": "markdown",
      "metadata": {
        "id": "HCjYA5eZ5_Nu"
      },
      "source": [
        "# 將y做encoding"
      ]
    },
    {
      "cell_type": "code",
      "execution_count": 5,
      "metadata": {
        "id": "DhXs6HZA5-d_"
      },
      "outputs": [],
      "source": [
        "y = [1 if (\"strike\" in label.lower() or \"foul\" in label.lower()) else 0 for label in y]"
      ]
    },
    {
      "cell_type": "code",
      "source": [
        "X_list = X\n",
        "y_list = y\n",
        "X_list[0].shape"
      ],
      "metadata": {
        "colab": {
          "base_uri": "https://localhost:8080/"
        },
        "id": "aQCGls2NYNFD",
        "outputId": "979fca5f-5d2e-4d27-f364-42f0c669bc85"
      },
      "execution_count": 6,
      "outputs": [
        {
          "output_type": "execute_result",
          "data": {
            "text/plain": [
              "torch.Size([3, 60, 160, 160])"
            ]
          },
          "metadata": {},
          "execution_count": 6
        }
      ]
    },
    {
      "cell_type": "code",
      "source": [
        "from sklearn.model_selection import train_test_split\n",
        "\n",
        "# 確保 X_list 和 y_list 長度一致\n",
        "assert len(X_list) == len(y_list)\n",
        "\n",
        "# 切分（80% train, 20% test），依照 y 分層取樣\n",
        "X_train, X_test, y_train, y_test = train_test_split(\n",
        "    X_list,\n",
        "    y_list,\n",
        "    test_size=0.2,\n",
        "    random_state=42,\n",
        "    stratify=y_list  # <- 關鍵！分層抽樣確保各類別數量比例一致\n",
        ")\n"
      ],
      "metadata": {
        "id": "KkB68VecZ6fa"
      },
      "execution_count": 7,
      "outputs": []
    },
    {
      "cell_type": "markdown",
      "source": [
        "# supcon loss"
      ],
      "metadata": {
        "id": "T_kxJJtEXSvB"
      }
    },
    {
      "cell_type": "code",
      "source": [
        "# === 1. Import ===\n",
        "import torch\n",
        "import torch.nn as nn\n",
        "import torch.nn.functional as F\n",
        "from torch.utils.data import Dataset, DataLoader\n",
        "from pytorchvideo.models.hub import x3d_xs\n",
        "from sklearn.manifold import TSNE\n",
        "import matplotlib.pyplot as plt\n",
        "import numpy as np\n",
        "import random\n",
        "\n",
        "# === 2. 固定種子 ===\n",
        "def seed_all(seed=42):\n",
        "    random.seed(seed)\n",
        "    np.random.seed(seed)\n",
        "    torch.manual_seed(seed)\n",
        "    torch.cuda.manual_seed_all(seed)\n",
        "\n",
        "seed_all()\n",
        "\n",
        "# === 3. Dataset（假設你已經轉成 Tensor）===\n",
        "class SimpleVideoDataset(Dataset):\n",
        "    def __init__(self, X, y):\n",
        "        self.X = X  # list of [3, 13, 160, 160]\n",
        "        self.y = y  # list of int\n",
        "\n",
        "    def __len__(self):\n",
        "        return len(self.X)\n",
        "\n",
        "    def __getitem__(self, idx):\n",
        "        return self.X[idx], self.y[idx]\n",
        "\n",
        "# === 4. SupCon Loss ===\n",
        "class SupConLoss(nn.Module):\n",
        "    def __init__(self, temperature=0.07):\n",
        "        super().__init__()\n",
        "        self.temperature = temperature\n",
        "\n",
        "    def forward(self, features, labels):\n",
        "        device = features.device\n",
        "        features = F.normalize(features, dim=1)\n",
        "        similarity_matrix = torch.matmul(features, features.T) / self.temperature\n",
        "\n",
        "        labels = labels.contiguous().view(-1, 1)\n",
        "        mask = torch.eq(labels, labels.T).float().to(device)\n",
        "        logits_mask = ~torch.eye(labels.shape[0], dtype=torch.bool).to(device)\n",
        "        mask = mask * logits_mask\n",
        "\n",
        "        exp_sim = torch.exp(similarity_matrix) * logits_mask\n",
        "        log_prob = similarity_matrix - torch.log(exp_sim.sum(dim=1, keepdim=True) + 1e-12)\n",
        "        mean_log_prob_pos = (mask * log_prob).sum(1) / (mask.sum(1) + 1e-12)\n",
        "        loss = -mean_log_prob_pos.mean()\n",
        "        return loss\n",
        "\n",
        "# === 5. 模型架構 ===\n",
        "class SupConModel(nn.Module):\n",
        "    def __init__(self):\n",
        "        super().__init__()\n",
        "        self.encoder = x3d_xs(pretrained=True)\n",
        "        self.encoder.blocks[-1].proj = nn.Identity()  # 拿掉分類 head\n",
        "        self.projection = nn.Sequential(\n",
        "            nn.Linear(2048, 128),\n",
        "            nn.ReLU(),\n",
        "            nn.Linear(128, 64)\n",
        "        )\n",
        "\n",
        "    def forward(self, x):\n",
        "        x = self.encoder(x)\n",
        "        x = self.projection(x)\n",
        "        return x\n",
        "\n",
        "# === 6. 準備訓練 ===\n",
        "device = 'cuda' if torch.cuda.is_available() else 'cpu'\n",
        "model = SupConModel().to(device)\n",
        "criterion = SupConLoss()\n",
        "optimizer = torch.optim.Adam(model.parameters(), lr=1e-4)\n",
        "\n",
        "# 假設你有：X_list, y_list\n",
        "# X_tensor = torch.stack(X_list)  # optional if you want batch input\n",
        "dataset = SimpleVideoDataset(X_train, y_train)\n",
        "loader = DataLoader(dataset, batch_size=4, shuffle=True)\n",
        "\n",
        "# === 7. 開始訓練 ===\n",
        "model.train()\n",
        "for epoch in range(10):\n",
        "    for x, y in loader:\n",
        "        x, y = x.to(device), y.to(device)\n",
        "        features = model(x)\n",
        "        loss = criterion(features, y)\n",
        "\n",
        "        optimizer.zero_grad()\n",
        "        loss.backward()\n",
        "        optimizer.step()\n",
        "\n",
        "    print(f\"Epoch {epoch} | Loss: {loss.item():.4f}\")\n"
      ],
      "metadata": {
        "id": "j4AINjKkXpG6",
        "colab": {
          "base_uri": "https://localhost:8080/"
        },
        "outputId": "9bdf15b7-7200-4ae7-a172-aa4c3817284e"
      },
      "execution_count": 8,
      "outputs": [
        {
          "output_type": "stream",
          "name": "stdout",
          "text": [
            "Epoch 0 | Loss: -0.0000\n",
            "Epoch 1 | Loss: -0.0000\n",
            "Epoch 2 | Loss: -0.0000\n",
            "Epoch 3 | Loss: -0.0000\n",
            "Epoch 4 | Loss: -0.0000\n",
            "Epoch 5 | Loss: -0.0000\n",
            "Epoch 6 | Loss: -0.0000\n",
            "Epoch 7 | Loss: -0.0000\n",
            "Epoch 8 | Loss: -0.0000\n",
            "Epoch 9 | Loss: -0.0000\n"
          ]
        }
      ]
    },
    {
      "cell_type": "code",
      "source": [
        "model.eval()\n",
        "all_features, all_labels = [], []\n",
        "with torch.no_grad():\n",
        "    for x, y in loader:\n",
        "        x = x.to(device)\n",
        "        features = model(x)\n",
        "        all_features.append(features.cpu())\n",
        "        all_labels.extend(y)\n",
        "\n",
        "all_features = torch.cat(all_features).numpy()\n",
        "all_labels = np.array(all_labels)\n",
        "\n",
        "tsne = TSNE(n_components=2, random_state=42)\n",
        "tsne_result = tsne.fit_transform(all_features)\n",
        "\n",
        "plt.figure(figsize=(8, 6))\n",
        "for label in np.unique(all_labels):\n",
        "    idxs = all_labels == label\n",
        "    plt.scatter(tsne_result[idxs, 0], tsne_result[idxs, 1], label=str(label))\n",
        "plt.legend()\n",
        "plt.title(\"SupCon Feature Embedding (t-SNE)\")\n",
        "plt.show()\n"
      ],
      "metadata": {
        "colab": {
          "base_uri": "https://localhost:8080/",
          "height": 496
        },
        "id": "XA-F4tRsXWMs",
        "outputId": "3b62002a-e180-4b2f-8514-8d3d3569ed09"
      },
      "execution_count": 9,
      "outputs": [
        {
          "output_type": "display_data",
          "data": {
            "text/plain": [
              "<Figure size 800x600 with 1 Axes>"
            ],
            "image/png": "[encoded data removed]"
          },
          "metadata": {}
        }
      ]
    },
    {
      "cell_type": "code",
      "source": [
        "dataset = SimpleVideoDataset(X_test, y_test)\n",
        "loader = DataLoader(dataset, batch_size=16, shuffle=True)\n",
        "model.eval()\n",
        "all_features, all_labels = [], []\n",
        "with torch.no_grad():\n",
        "    for x, y in loader:\n",
        "        x = x.to(device)\n",
        "        features = model(x)\n",
        "        all_features.append(features.cpu())\n",
        "        all_labels.extend(y)\n",
        "\n",
        "all_features = torch.cat(all_features).numpy()\n",
        "all_labels = np.array(all_labels)\n",
        "\n",
        "tsne = TSNE(n_components=2, random_state=42)\n",
        "tsne_result = tsne.fit_transform(all_features)\n",
        "\n",
        "plt.figure(figsize=(8, 6))\n",
        "for label in np.unique(all_labels):\n",
        "    idxs = all_labels == label\n",
        "    plt.scatter(tsne_result[idxs, 0], tsne_result[idxs, 1], label=str(label))\n",
        "plt.legend()\n",
        "plt.title(\"SupCon Feature Embedding (t-SNE)\")\n",
        "plt.show()\n"
      ],
      "metadata": {
        "colab": {
          "base_uri": "https://localhost:8080/",
          "height": 512
        },
        "id": "LyQAcLmyaXY-",
        "outputId": "aeba2415-def1-44b6-e12a-9077d1c102f6"
      },
      "execution_count": 10,
      "outputs": [
        {
          "output_type": "display_data",
          "data": {
            "text/plain": [
              "<Figure size 800x600 with 1 Axes>"
            ],
            "image/png": "[encoded data removed]"
          },
          "metadata": {}
        }
      ]
    },
    {
      "cell_type": "markdown",
      "source": [
        "# 分類訓練"
      ],
      "metadata": {
        "id": "usP8GV-2ZGI0"
      }
    },
    {
      "cell_type": "code",
      "source": [
        "# === 6. 分類模型（使用訓練好的 encoder）===\n",
        "class Classifier(nn.Module):\n",
        "    def __init__(self, encoder, num_classes):\n",
        "        super().__init__()\n",
        "        self.encoder = encoder  # 預訓練好的 encoder（可選擇是否凍結）\n",
        "        self.classifier = nn.Linear(2048, num_classes)\n",
        "\n",
        "    def forward(self, x):\n",
        "        with torch.no_grad():\n",
        "            x = self.encoder(x)\n",
        "        return self.classifier(x)"
      ],
      "metadata": {
        "id": "2sPqovZcY5T9"
      },
      "execution_count": 11,
      "outputs": []
    },
    {
      "cell_type": "code",
      "source": [
        "# === 9. 微調分類器 ===\n",
        "print(\"\\n=== Fine-tuning Classifier ===\")\n",
        "\n",
        "# 初始化分類器，使用 encoder 的 feature extractor（不包含 projection head）\n",
        "frozen_encoder = model.encoder\n",
        "num_classes = len(set(y_list))\n",
        "classifier_model = Classifier(frozen_encoder, num_classes).to(device)\n",
        "\n",
        "# 解凍 encoder 可選：取消 with torch.no_grad() → 再訓練 encoder\n",
        "optimizer_cls = torch.optim.Adam(classifier_model.classifier.parameters(), lr=1e-3)\n",
        "criterion_cls = nn.CrossEntropyLoss()\n",
        "\n",
        "classifier_model.train()\n",
        "dataset = SimpleVideoDataset(X_train, y_train)\n",
        "loader = DataLoader(dataset, batch_size=4, shuffle=True)\n",
        "\n",
        "test_dataset = SimpleVideoDataset(X_test, y_test)\n",
        "test_loader = DataLoader(test_dataset, batch_size=4, shuffle=True)\n",
        "\n",
        "for epoch in range(10):\n",
        "    total, correct = 0, 0\n",
        "    for x, y in loader:\n",
        "        x, y = x.to(device), y.to(device)\n",
        "        logits = classifier_model(x)\n",
        "        loss = criterion_cls(logits, y)\n",
        "\n",
        "        optimizer_cls.zero_grad()\n",
        "        loss.backward()\n",
        "        optimizer_cls.step()\n",
        "\n",
        "        preds = logits.argmax(dim=1)\n",
        "        correct += (preds == y).sum().item()\n",
        "        total += y.size(0)\n",
        "\n",
        "    acc = correct / total\n",
        "    print(f\"[CLS] Epoch {epoch} | Loss: {loss.item():.4f} | Acc: {acc:.2%}\")\n",
        "\n",
        "    with torch.no_grad():\n",
        "        total, correct = 0, 0\n",
        "        for x, y in test_loader:\n",
        "            x, y = x.to(device), y.to(device)\n",
        "            logits = classifier_model(x)\n",
        "            loss = criterion_cls(logits, y)\n",
        "\n",
        "            preds = logits.argmax(dim=1)\n",
        "            correct += (preds == y).sum().item()\n",
        "            total += y.size(0)\n",
        "\n",
        "        acc = correct / total\n",
        "        print(f\"[CLS] Test | Loss: {loss.item():.4f} | Acc: {acc:.2%}\")"
      ],
      "metadata": {
        "colab": {
          "base_uri": "https://localhost:8080/"
        },
        "id": "Aq8mkn9BZJEp",
        "outputId": "b9a3aa75-f963-4a43-a3f9-312cf636ad19"
      },
      "execution_count": 12,
      "outputs": [
        {
          "output_type": "stream",
          "name": "stdout",
          "text": [
            "\n",
            "=== Fine-tuning Classifier ===\n",
            "[CLS] Epoch 0 | Loss: 0.6795 | Acc: 52.13%\n",
            "[CLS] Test | Loss: 0.6792 | Acc: 51.95%\n",
            "[CLS] Epoch 1 | Loss: 0.7188 | Acc: 52.13%\n",
            "[CLS] Test | Loss: 0.6686 | Acc: 51.95%\n",
            "[CLS] Epoch 2 | Loss: 0.6675 | Acc: 52.13%\n",
            "[CLS] Test | Loss: 0.6671 | Acc: 51.95%\n",
            "[CLS] Epoch 3 | Loss: 0.7269 | Acc: 52.13%\n",
            "[CLS] Test | Loss: 0.7267 | Acc: 51.95%\n",
            "[CLS] Epoch 4 | Loss: 0.6575 | Acc: 52.13%\n",
            "[CLS] Test | Loss: 0.6576 | Acc: 51.95%\n",
            "[CLS] Epoch 5 | Loss: 0.7334 | Acc: 52.13%\n",
            "[CLS] Test | Loss: 0.6548 | Acc: 51.95%\n",
            "[CLS] Epoch 6 | Loss: 0.6637 | Acc: 52.13%\n",
            "[CLS] Test | Loss: 0.7250 | Acc: 51.95%\n",
            "[CLS] Epoch 7 | Loss: 0.6513 | Acc: 52.13%\n",
            "[CLS] Test | Loss: 0.7372 | Acc: 51.95%\n",
            "[CLS] Epoch 8 | Loss: 0.6482 | Acc: 52.13%\n",
            "[CLS] Test | Loss: 0.6478 | Acc: 51.95%\n",
            "[CLS] Epoch 9 | Loss: 0.7448 | Acc: 52.13%\n",
            "[CLS] Test | Loss: 0.6447 | Acc: 51.95%\n"
          ]
        }
      ]
    },
    {
      "cell_type": "code",
      "source": [
        "from sklearn.metrics import classification_report, confusion_matrix, ConfusionMatrixDisplay\n",
        "\n",
        "# 收集所有真實與預測標籤\n",
        "all_preds, all_labels = [], []\n",
        "\n",
        "with torch.no_grad():\n",
        "    total, correct = 0, 0\n",
        "    for x, y in test_loader:\n",
        "        x, y = x.to(device), y.to(device)\n",
        "        logits = classifier_model(x)\n",
        "        preds = logits.argmax(dim=1)\n",
        "\n",
        "        all_preds.extend(preds.cpu().numpy())\n",
        "        all_labels.extend(y.cpu().numpy())\n",
        "\n",
        "        correct += (preds == y).sum().item()\n",
        "        total += y.size(0)\n",
        "\n",
        "    acc = correct / total\n",
        "    print(f\"[CLS] Test | Acc: {acc:.2%}\")\n",
        "\n",
        "# === 分類報告 ===\n",
        "print(\"\\nClassification Report:\")\n",
        "print(classification_report(all_labels, all_preds, digits=4))\n",
        "\n",
        "# === 混淆矩陣 ===\n",
        "cm = confusion_matrix(all_labels, all_preds)\n",
        "disp = ConfusionMatrixDisplay(confusion_matrix=cm)\n",
        "disp.plot(cmap=\"Blues\")  # 可換 colormap\n"
      ],
      "metadata": {
        "colab": {
          "base_uri": "https://localhost:8080/",
          "height": 819
        },
        "id": "g2sGjrZ_ZiRl",
        "outputId": "62e69401-8791-406f-9362-ea883d139b29"
      },
      "execution_count": 13,
      "outputs": [
        {
          "output_type": "stream",
          "name": "stdout",
          "text": [
            "[CLS] Test | Acc: 51.95%\n",
            "\n",
            "Classification Report:\n",
            "              precision    recall  f1-score   support\n",
            "\n",
            "           0     0.0000    0.0000    0.0000        37\n",
            "           1     0.5195    1.0000    0.6838        40\n",
            "\n",
            "    accuracy                         0.5195        77\n",
            "   macro avg     0.2597    0.5000    0.3419        77\n",
            "weighted avg     0.2699    0.5195    0.3552        77\n",
            "\n"
          ]
        },
        {
          "output_type": "stream",
          "name": "stderr",
          "text": [
            "/usr/local/lib/python3.11/dist-packages/sklearn/metrics/_classification.py:1565: UndefinedMetricWarning: Precision is ill-defined and being set to 0.0 in labels with no predicted samples. Use `zero_division` parameter to control this behavior.\n",
            "  _warn_prf(average, modifier, f\"{metric.capitalize()} is\", len(result))\n",
            "/usr/local/lib/python3.11/dist-packages/sklearn/metrics/_classification.py:1565: UndefinedMetricWarning: Precision is ill-defined and being set to 0.0 in labels with no predicted samples. Use `zero_division` parameter to control this behavior.\n",
            "  _warn_prf(average, modifier, f\"{metric.capitalize()} is\", len(result))\n",
            "/usr/local/lib/python3.11/dist-packages/sklearn/metrics/_classification.py:1565: UndefinedMetricWarning: Precision is ill-defined and being set to 0.0 in labels with no predicted samples. Use `zero_division` parameter to control this behavior.\n",
            "  _warn_prf(average, modifier, f\"{metric.capitalize()} is\", len(result))\n"
          ]
        },
        {
          "output_type": "execute_result",
          "data": {
            "text/plain": [
              "<sklearn.metrics._plot.confusion_matrix.ConfusionMatrixDisplay at 0x7c954c52e610>"
            ]
          },
          "metadata": {},
          "execution_count": 13
        },
        {
          "output_type": "display_data",
          "data": {
            "text/plain": [
              "<Figure size 640x480 with 2 Axes>"
            ],
            "image/png": "[encoded data removed]"
          },
          "metadata": {}
        }
      ]
    }
  ],
  "metadata": {
    "accelerator": "GPU",
    "colab": {
      "gpuType": "T4",
      "provenance": []
    },
    "kernelspec": {
      "display_name": "Python 3",
      "name": "python3"
    },
    "language_info": {
      "name": "python"
    }
  },
  "nbformat": 4,
  "nbformat_minor": 0
}